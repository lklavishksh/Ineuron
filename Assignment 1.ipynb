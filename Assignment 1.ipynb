{
 "cells": [
  {
   "cell_type": "markdown",
   "id": "22cc37d7",
   "metadata": {},
   "source": [
    "1. In the below elements which of them are values or an expression? eg:- values can be integer or string and expressions will be mathematical operators.\n",
    "*\n",
    "'hello'\n",
    "-87.8\n",
    "-\n",
    "/\n",
    "+\n",
    "6"
   ]
  },
  {
   "cell_type": "code",
   "execution_count": 32,
   "id": "ae66b661",
   "metadata": {},
   "outputs": [],
   "source": [
    "# * - Expression\n",
    "# 'hello' - Value\n",
    "# -87.8 - Value\n",
    "# - - Expression\n",
    "# / - Expression\n",
    "# + - Expression\n",
    "# 6 - Value"
   ]
  },
  {
   "cell_type": "markdown",
   "id": "858d532f",
   "metadata": {},
   "source": [
    "2. What is the difference between string and variable?"
   ]
  },
  {
   "cell_type": "code",
   "execution_count": 31,
   "id": "7d8b2045",
   "metadata": {},
   "outputs": [],
   "source": [
    "# String\n",
    "# A string is a sequence of one or more characters (letters, numbers, symbols) that can be either a constant or a variable. Made up of Unicode, strings are immutable sequences, meaning they are unchanging.\n",
    "# Variable\n",
    "# Variables are symbols that you can use to store data in a program."
   ]
  },
  {
   "cell_type": "markdown",
   "id": "06073e9e",
   "metadata": {},
   "source": [
    "3. Describe three different data types."
   ]
  },
  {
   "cell_type": "code",
   "execution_count": 30,
   "id": "c3e3d747",
   "metadata": {},
   "outputs": [],
   "source": [
    "#Strings -> Examples - \"Hello!\", \"23.34\"\n",
    "    #Text - anything between \" \"  becomes string -> Immutable\n",
    "# Integers -> Examples - 5364, 2, 444\n",
    "    #Whole numbers are Integers -> Immutable\n",
    "# Floats -> Examples - 1.11, 3.1415\n",
    "    #Decimal Numbers are Floats -> Immutable"
   ]
  },
  {
   "cell_type": "markdown",
   "id": "0b06ebb7",
   "metadata": {},
   "source": [
    "4. What is an expression made up of? What do all expressions do?"
   ]
  },
  {
   "cell_type": "code",
   "execution_count": 29,
   "id": "17fa2d8d",
   "metadata": {},
   "outputs": [],
   "source": [
    "# A combination of operands and operators is called an expression.\n",
    "# The expression in Python produces some value or result after being interpreted by the Python interpreter."
   ]
  },
  {
   "cell_type": "markdown",
   "id": "2b558ebd",
   "metadata": {},
   "source": [
    "5. This assignment statements, like spam = 10. What is the difference between an expression and a statement?"
   ]
  },
  {
   "cell_type": "code",
   "execution_count": 28,
   "id": "ee2485b2",
   "metadata": {},
   "outputs": [],
   "source": [
    "# Expression evaluates a single statement.\n",
    "# An expression usually refers to a piece of code that can be evaluated to a value, and is composed of variables, operators, function calls, and literals. In most programming languages, common examples of expressions are method calls and mathematical operations.\n",
    "spam = 10 # Here, variable 'spam' has assigned a value '10'\n",
    "# Statement refers to a piece of code that executes a specific instruction or tells the computer to complete a task.  A statement can take the form of assignments, control statements, import statements, loop statements, jump statements, or method calls.\n",
    "# Full statement ' spam = 10 ' is a statement"
   ]
  },
  {
   "cell_type": "markdown",
   "id": "6db1399e",
   "metadata": {},
   "source": [
    "6. After running the following code, what does the variable bacon contain?\n",
    "bacon = 22\n",
    "bacon + 1"
   ]
  },
  {
   "cell_type": "code",
   "execution_count": 26,
   "id": "f44ab3ba",
   "metadata": {},
   "outputs": [
    {
     "data": {
      "text/plain": [
       "23"
      ]
     },
     "execution_count": 26,
     "metadata": {},
     "output_type": "execute_result"
    }
   ],
   "source": [
    "# The 'bacon' has value of 22\n",
    "bacon = 22\n",
    "# After adding 1 to bacon, it will print 23, but bacon still has value of 22 as variable stores 22 and no command has given to update the value.\n",
    "bacon+1 # 22+1 = 23 but bacon is still 22"
   ]
  },
  {
   "cell_type": "code",
   "execution_count": 27,
   "id": "7f0e6005",
   "metadata": {},
   "outputs": [
    {
     "name": "stdout",
     "output_type": "stream",
     "text": [
      "22\n"
     ]
    }
   ],
   "source": [
    "print(bacon)"
   ]
  },
  {
   "cell_type": "markdown",
   "id": "8226c032",
   "metadata": {},
   "source": [
    "7. What should the values of the following two terms be?\n",
    "'spam' + 'spamspam'\n",
    "'spam' * 3"
   ]
  },
  {
   "cell_type": "code",
   "execution_count": 20,
   "id": "b4270abc",
   "metadata": {},
   "outputs": [
    {
     "data": {
      "text/plain": [
       "'spamspamspam'"
      ]
     },
     "execution_count": 20,
     "metadata": {},
     "output_type": "execute_result"
    }
   ],
   "source": [
    "# 'spam' + 'spamspam' -> Concatenation \n",
    "'spam' + 'spamspam'"
   ]
  },
  {
   "cell_type": "code",
   "execution_count": 21,
   "id": "69e68fc0",
   "metadata": {},
   "outputs": [
    {
     "data": {
      "text/plain": [
       "'spamspamspam'"
      ]
     },
     "execution_count": 21,
     "metadata": {},
     "output_type": "execute_result"
    }
   ],
   "source": [
    "# 'spam' * 3 -> Will print the string 3 times\n",
    "'spam' * 3"
   ]
  },
  {
   "cell_type": "markdown",
   "id": "c3f3c40b",
   "metadata": {},
   "source": [
    "8. Why is eggs a valid variable name while 100 is invalid?"
   ]
  },
  {
   "cell_type": "code",
   "execution_count": null,
   "id": "26c19a4a",
   "metadata": {},
   "outputs": [],
   "source": [
    "The variable names contains characters, special characters like '_' and numbers but only numbers cause error."
   ]
  },
  {
   "cell_type": "code",
   "execution_count": 13,
   "id": "8fb01fdc",
   "metadata": {},
   "outputs": [],
   "source": [
    "eggs = 10 #eggs is an integer"
   ]
  },
  {
   "cell_type": "code",
   "execution_count": 14,
   "id": "12910bd7",
   "metadata": {},
   "outputs": [],
   "source": [
    "_eggs = 10.0 # _eggs is a floating number"
   ]
  },
  {
   "cell_type": "code",
   "execution_count": 15,
   "id": "714afae8",
   "metadata": {},
   "outputs": [
    {
     "data": {
      "text/plain": [
       "10.0"
      ]
     },
     "execution_count": 15,
     "metadata": {},
     "output_type": "execute_result"
    }
   ],
   "source": [
    "_eggs"
   ]
  },
  {
   "cell_type": "code",
   "execution_count": 19,
   "id": "ce078a98",
   "metadata": {},
   "outputs": [],
   "source": [
    "e_j = 1 #Variable name can have special character"
   ]
  },
  {
   "cell_type": "markdown",
   "id": "b039410b",
   "metadata": {},
   "source": [
    "9. What three functions can be used to get the integer, floating-point number, or string version of a value?"
   ]
  },
  {
   "cell_type": "markdown",
   "id": "1f4f9f5c",
   "metadata": {},
   "source": [
    "The three functions are:\n",
    "    int() - To get integer version of a value.\n",
    "    str() - To get string version of a value.\n",
    "    float()- To get floating version of a value."
   ]
  },
  {
   "cell_type": "code",
   "execution_count": 6,
   "id": "6024483e",
   "metadata": {},
   "outputs": [
    {
     "data": {
      "text/plain": [
       "9999"
      ]
     },
     "execution_count": 6,
     "metadata": {},
     "output_type": "execute_result"
    }
   ],
   "source": [
    "# Let suppose a varaible, 'a' has a value\n",
    "a = '9999'\n",
    "int(a)"
   ]
  },
  {
   "cell_type": "code",
   "execution_count": 7,
   "id": "f3d514db",
   "metadata": {},
   "outputs": [
    {
     "data": {
      "text/plain": [
       "9999.0"
      ]
     },
     "execution_count": 7,
     "metadata": {},
     "output_type": "execute_result"
    }
   ],
   "source": [
    "float(a)"
   ]
  },
  {
   "cell_type": "code",
   "execution_count": 11,
   "id": "6b13a539",
   "metadata": {},
   "outputs": [],
   "source": [
    "b = 999"
   ]
  },
  {
   "cell_type": "code",
   "execution_count": 12,
   "id": "4a0fdbbf",
   "metadata": {},
   "outputs": [
    {
     "data": {
      "text/plain": [
       "'999'"
      ]
     },
     "execution_count": 12,
     "metadata": {},
     "output_type": "execute_result"
    }
   ],
   "source": [
    "str(b)"
   ]
  },
  {
   "cell_type": "markdown",
   "id": "3df27c90",
   "metadata": {},
   "source": [
    "10. Why does this expression cause an error? How can you fix it?\n",
    "'I have eaten'; + 99 +  'burritos.'"
   ]
  },
  {
   "cell_type": "code",
   "execution_count": 4,
   "id": "18050d6b",
   "metadata": {},
   "outputs": [
    {
     "ename": "TypeError",
     "evalue": "can only concatenate str (not \"int\") to str",
     "output_type": "error",
     "traceback": [
      "\u001b[1;31m---------------------------------------------------------------------------\u001b[0m",
      "\u001b[1;31mTypeError\u001b[0m                                 Traceback (most recent call last)",
      "\u001b[1;32m~\\AppData\\Local\\Temp\\ipykernel_8308\\4188831926.py\u001b[0m in \u001b[0;36m<module>\u001b[1;34m\u001b[0m\n\u001b[0;32m      1\u001b[0m \u001b[1;31m# The expression will cause an error beacuse it is concating 'string' with 'int'. Here, the data types must be same.\u001b[0m\u001b[1;33m\u001b[0m\u001b[1;33m\u001b[0m\u001b[0m\n\u001b[1;32m----> 2\u001b[1;33m \u001b[0mprint\u001b[0m\u001b[1;33m(\u001b[0m\u001b[1;34m'I have eaten '\u001b[0m \u001b[1;33m+\u001b[0m \u001b[1;36m99\u001b[0m \u001b[1;33m+\u001b[0m \u001b[1;34m' burritos.'\u001b[0m\u001b[1;33m)\u001b[0m\u001b[1;33m\u001b[0m\u001b[1;33m\u001b[0m\u001b[0m\n\u001b[0m",
      "\u001b[1;31mTypeError\u001b[0m: can only concatenate str (not \"int\") to str"
     ]
    }
   ],
   "source": [
    "# The expression will cause an error beacuse it is concating 'string' with 'int'. Here, the data types must be same.\n",
    "print('I have eaten ' + 99 + ' burritos.')"
   ]
  },
  {
   "cell_type": "code",
   "execution_count": 5,
   "id": "98f52622",
   "metadata": {},
   "outputs": [
    {
     "name": "stdout",
     "output_type": "stream",
     "text": [
      "I have eaten 99 burritos.\n"
     ]
    }
   ],
   "source": [
    "# To remove the error, cast 'int' to 'str' and then print it.\n",
    "print('I have eaten ' + str(99) + ' burritos.')"
   ]
  }
 ],
 "metadata": {
  "kernelspec": {
   "display_name": "Python 3 (ipykernel)",
   "language": "python",
   "name": "python3"
  },
  "language_info": {
   "codemirror_mode": {
    "name": "ipython",
    "version": 3
   },
   "file_extension": ".py",
   "mimetype": "text/x-python",
   "name": "python",
   "nbconvert_exporter": "python",
   "pygments_lexer": "ipython3",
   "version": "3.9.13"
  }
 },
 "nbformat": 4,
 "nbformat_minor": 5
}

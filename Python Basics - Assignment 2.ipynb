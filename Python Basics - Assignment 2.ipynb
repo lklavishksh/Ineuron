{
 "cells": [
  {
   "cell_type": "markdown",
   "id": "cd6aeca1",
   "metadata": {},
   "source": [
    "1. What are the two values of the Boolean data type? How do you write them?"
   ]
  },
  {
   "cell_type": "code",
   "execution_count": 1,
   "id": "fac818b0",
   "metadata": {},
   "outputs": [
    {
     "data": {
      "text/plain": [
       "True"
      ]
     },
     "execution_count": 1,
     "metadata": {},
     "output_type": "execute_result"
    }
   ],
   "source": [
    "# True and False\n",
    "a = True\n",
    "a"
   ]
  },
  {
   "cell_type": "code",
   "execution_count": 2,
   "id": "919f2bf4",
   "metadata": {},
   "outputs": [
    {
     "data": {
      "text/plain": [
       "False"
      ]
     },
     "execution_count": 2,
     "metadata": {},
     "output_type": "execute_result"
    }
   ],
   "source": [
    "b = False\n",
    "b"
   ]
  },
  {
   "cell_type": "code",
   "execution_count": 3,
   "id": "e8b2219e",
   "metadata": {},
   "outputs": [
    {
     "name": "stdout",
     "output_type": "stream",
     "text": [
      "<class 'bool'> <class 'bool'>\n"
     ]
    }
   ],
   "source": [
    "print(type(a), type(b))"
   ]
  },
  {
   "cell_type": "markdown",
   "id": "de56b99d",
   "metadata": {},
   "source": [
    "2. What are the three different types of Boolean operators?"
   ]
  },
  {
   "cell_type": "code",
   "execution_count": 4,
   "id": "c68b36eb",
   "metadata": {},
   "outputs": [],
   "source": [
    "# The boolean operators are:\n",
    "#    AND - Provides results that contain both or all keywords. '&&'\n",
    "#    OR - Provides results that contain either keyword. '||'\n",
    "#    NOT - NOT will provide search results containing the first of your keywords but not the second. '!'"
   ]
  },
  {
   "cell_type": "markdown",
   "id": "254e26bf",
   "metadata": {},
   "source": [
    "3. Make a list of each Boolean operator's truth tables (i.e. every possible combination of Boolean values for the operator and what it evaluate )."
   ]
  },
  {
   "cell_type": "markdown",
   "id": "1a6fc7bd",
   "metadata": {},
   "source": [
    "# AND Table\n",
    "    a       b       Result (a and b)                1 = True and 0 = False\n",
    "    0       0       0\n",
    "    0       1       0\n",
    "    1       0       0\n",
    "    1       1       1\n",
    "\n",
    "# OR Table\n",
    "    a       b       Result (a or b)\n",
    "    0       0       0\n",
    "    0       1       1\n",
    "    1       0       1\n",
    "    1       1       1\n",
    "    \n",
    "# NOT Table\n",
    "    a       Result (not a)\n",
    "    0       1\n",
    "    1       0"
   ]
  },
  {
   "cell_type": "markdown",
   "id": "d89f09c7",
   "metadata": {},
   "source": [
    "4. What are the values of the following expressions?\n",
    "(5 > 4) and (3 == 5) \n",
    "not (5 > 4)\n",
    "(5 > 4) or (3 == 5)\n",
    "not ((5 > 4) or (3 == 5))\n",
    "(True and True) and (True == False)\n",
    "(not False) or (not True)"
   ]
  },
  {
   "cell_type": "code",
   "execution_count": 5,
   "id": "ee8b78f6",
   "metadata": {},
   "outputs": [
    {
     "data": {
      "text/plain": [
       "False"
      ]
     },
     "execution_count": 5,
     "metadata": {},
     "output_type": "execute_result"
    }
   ],
   "source": [
    "(5 > 4) and (3 == 5) # True and False Gives False"
   ]
  },
  {
   "cell_type": "code",
   "execution_count": 6,
   "id": "83f01a06",
   "metadata": {},
   "outputs": [
    {
     "data": {
      "text/plain": [
       "False"
      ]
     },
     "execution_count": 6,
     "metadata": {},
     "output_type": "execute_result"
    }
   ],
   "source": [
    "not (5 > 4) # Not True gives False"
   ]
  },
  {
   "cell_type": "code",
   "execution_count": 7,
   "id": "4b853e08",
   "metadata": {},
   "outputs": [
    {
     "data": {
      "text/plain": [
       "True"
      ]
     },
     "execution_count": 7,
     "metadata": {},
     "output_type": "execute_result"
    }
   ],
   "source": [
    "(5 > 4) or (3 == 5) # True or False gives True"
   ]
  },
  {
   "cell_type": "code",
   "execution_count": 8,
   "id": "f8f93023",
   "metadata": {},
   "outputs": [
    {
     "data": {
      "text/plain": [
       "False"
      ]
     },
     "execution_count": 8,
     "metadata": {},
     "output_type": "execute_result"
    }
   ],
   "source": [
    "not ((5 > 4) or (3 == 5)) # not of (True or False gives) True gives False "
   ]
  },
  {
   "cell_type": "code",
   "execution_count": 9,
   "id": "97d1d1c7",
   "metadata": {},
   "outputs": [
    {
     "data": {
      "text/plain": [
       "False"
      ]
     },
     "execution_count": 9,
     "metadata": {},
     "output_type": "execute_result"
    }
   ],
   "source": [
    "(True and True) and (True == False) # True and True gives True and True is not equals to False gives False, result is False"
   ]
  },
  {
   "cell_type": "code",
   "execution_count": 10,
   "id": "664bb9d6",
   "metadata": {},
   "outputs": [
    {
     "data": {
      "text/plain": [
       "True"
      ]
     },
     "execution_count": 10,
     "metadata": {},
     "output_type": "execute_result"
    }
   ],
   "source": [
    "(not False) or (not True) # True or False gives True"
   ]
  },
  {
   "cell_type": "markdown",
   "id": "74a34106",
   "metadata": {},
   "source": [
    "5. What are the six comparison operators?"
   ]
  },
  {
   "cell_type": "code",
   "execution_count": 11,
   "id": "8ca76622",
   "metadata": {},
   "outputs": [
    {
     "data": {
      "text/plain": [
       "True"
      ]
     },
     "execution_count": 11,
     "metadata": {},
     "output_type": "execute_result"
    }
   ],
   "source": [
    "# 1. Less than operator '<'\n",
    "3<6"
   ]
  },
  {
   "cell_type": "code",
   "execution_count": 12,
   "id": "f18e2ca0",
   "metadata": {},
   "outputs": [
    {
     "data": {
      "text/plain": [
       "True"
      ]
     },
     "execution_count": 12,
     "metadata": {},
     "output_type": "execute_result"
    }
   ],
   "source": [
    "# 2. Greater than operator '>'\n",
    "4>2"
   ]
  },
  {
   "cell_type": "code",
   "execution_count": 13,
   "id": "8c5f0fa8",
   "metadata": {},
   "outputs": [
    {
     "data": {
      "text/plain": [
       "True"
      ]
     },
     "execution_count": 13,
     "metadata": {},
     "output_type": "execute_result"
    }
   ],
   "source": [
    "# 3. Less than or Equal to operator '<='\n",
    "2<=4"
   ]
  },
  {
   "cell_type": "code",
   "execution_count": 14,
   "id": "ead8d5c9",
   "metadata": {},
   "outputs": [
    {
     "data": {
      "text/plain": [
       "True"
      ]
     },
     "execution_count": 14,
     "metadata": {},
     "output_type": "execute_result"
    }
   ],
   "source": [
    "# 4. Greater than or Equal to operator '>='\n",
    "4>=2"
   ]
  },
  {
   "cell_type": "code",
   "execution_count": 17,
   "id": "a410ca60",
   "metadata": {},
   "outputs": [
    {
     "data": {
      "text/plain": [
       "False"
      ]
     },
     "execution_count": 17,
     "metadata": {},
     "output_type": "execute_result"
    }
   ],
   "source": [
    "# 5. Equal to operator '=='\n",
    "5==3"
   ]
  },
  {
   "cell_type": "code",
   "execution_count": 18,
   "id": "57aca96e",
   "metadata": {},
   "outputs": [
    {
     "data": {
      "text/plain": [
       "True"
      ]
     },
     "execution_count": 18,
     "metadata": {},
     "output_type": "execute_result"
    }
   ],
   "source": [
    "# 6. Not Equal to operator '!='\n",
    "5!=3"
   ]
  },
  {
   "cell_type": "markdown",
   "id": "869d361d",
   "metadata": {},
   "source": [
    "6. How do you tell the difference between the equal to and assignment operators?Describe a condition and when you would use one."
   ]
  },
  {
   "cell_type": "markdown",
   "id": "b00325ed",
   "metadata": {},
   "source": [
    "The Assignment (=) operator is used to assign value to a variable. The assignment (==) operator is used to check whether the values are equal or not."
   ]
  },
  {
   "cell_type": "markdown",
   "id": "82171a78",
   "metadata": {},
   "source": [
    "7. Identify the three blocks in this code:\n",
    "spam = 0\n",
    "if spam == 10:\n",
    "    print('eggs')\n",
    "if spam > 5:\n",
    "    print('bacon')\n",
    "else:\n",
    "    print('ham')\n",
    "    print('spam')\n",
    "    print('spam')"
   ]
  },
  {
   "cell_type": "code",
   "execution_count": 22,
   "id": "4a3fbb26",
   "metadata": {},
   "outputs": [
    {
     "name": "stdout",
     "output_type": "stream",
     "text": [
      "ham\n",
      "spam\n",
      "spam\n"
     ]
    }
   ],
   "source": [
    "# Variable 'spam' has value 0 and no condition is matching, so else block will be processed\n",
    "spam = 0\n",
    "if spam == 10:\n",
    "    print('eggs')\n",
    "if spam > 5:\n",
    "    print('bacon')\n",
    "else:\n",
    "    print('ham')\n",
    "    print('spam')\n",
    "    print('spam')"
   ]
  },
  {
   "cell_type": "markdown",
   "id": "3a31c2cf",
   "metadata": {},
   "source": [
    "8. Write code that prints Hello if 1 is stored in spam, prints Howdy if 2 is stored in spam, and prints Greetings! if anything else is stored in spam."
   ]
  },
  {
   "cell_type": "code",
   "execution_count": 26,
   "id": "15d401d1",
   "metadata": {},
   "outputs": [
    {
     "name": "stdout",
     "output_type": "stream",
     "text": [
      "Greetings!\n"
     ]
    }
   ],
   "source": [
    "spam = 3\n",
    "if spam == 1:\n",
    "    print('Hello')\n",
    "elif spam == 2:\n",
    "    print('Howdy')\n",
    "else:\n",
    "    print('Greetings!')"
   ]
  },
  {
   "cell_type": "markdown",
   "id": "f047fc77",
   "metadata": {},
   "source": [
    "9. If your programme is stuck in an endless loop, what keys you’ll press?"
   ]
  },
  {
   "cell_type": "markdown",
   "id": "e02d2a65",
   "metadata": {},
   "source": [
    "Press Ctrl + C to stop an endless loop."
   ]
  },
  {
   "cell_type": "markdown",
   "id": "3e40e4a8",
   "metadata": {},
   "source": [
    "10. How can you tell the difference between break and continue?"
   ]
  },
  {
   "cell_type": "code",
   "execution_count": null,
   "id": "c278ef47",
   "metadata": {},
   "outputs": [],
   "source": [
    "Break keyword is used to stop the iteration of any loop and come out of the loop.\n",
    "Continue keyword is used "
   ]
  },
  {
   "cell_type": "markdown",
   "id": "8ed538d8",
   "metadata": {},
   "source": [
    "11. In a for loop, what is the difference between range(10), range(0, 10), and range(0, 10, 1)?"
   ]
  },
  {
   "cell_type": "markdown",
   "id": "e9b225ee",
   "metadata": {},
   "source": [
    "There is no difference between range(10), range(0,10), and range(0,10,1). In range(start, stop, step), start and step are optional. By default, start is taken is 0 and step is taken is 1. If not provided, then these values are taken."
   ]
  },
  {
   "cell_type": "code",
   "execution_count": 27,
   "id": "4f1887c2",
   "metadata": {},
   "outputs": [
    {
     "name": "stdout",
     "output_type": "stream",
     "text": [
      "0\n",
      "1\n",
      "2\n",
      "3\n",
      "4\n",
      "5\n",
      "6\n",
      "7\n",
      "8\n",
      "9\n"
     ]
    }
   ],
   "source": [
    "for i in range(10):\n",
    "    print(i)"
   ]
  },
  {
   "cell_type": "code",
   "execution_count": 28,
   "id": "aa023abc",
   "metadata": {},
   "outputs": [
    {
     "name": "stdout",
     "output_type": "stream",
     "text": [
      "0\n",
      "1\n",
      "2\n",
      "3\n",
      "4\n",
      "5\n",
      "6\n",
      "7\n",
      "8\n",
      "9\n"
     ]
    }
   ],
   "source": [
    "for i in range(0,10):\n",
    "    print(i)"
   ]
  },
  {
   "cell_type": "code",
   "execution_count": 29,
   "id": "25c382fe",
   "metadata": {},
   "outputs": [
    {
     "name": "stdout",
     "output_type": "stream",
     "text": [
      "0\n",
      "1\n",
      "2\n",
      "3\n",
      "4\n",
      "5\n",
      "6\n",
      "7\n",
      "8\n",
      "9\n"
     ]
    }
   ],
   "source": [
    "for i in range(0,10,1):\n",
    "    print(i)"
   ]
  },
  {
   "cell_type": "markdown",
   "id": "9b87296f",
   "metadata": {},
   "source": [
    "12. Write a short program that prints the numbers 1 to 10 using a for loop. Then write an equivalent program that prints the numbers 1 to 10 using a while loop."
   ]
  },
  {
   "cell_type": "code",
   "execution_count": 30,
   "id": "508103d9",
   "metadata": {},
   "outputs": [
    {
     "name": "stdout",
     "output_type": "stream",
     "text": [
      "1\n",
      "2\n",
      "3\n",
      "4\n",
      "5\n",
      "6\n",
      "7\n",
      "8\n",
      "9\n",
      "10\n"
     ]
    }
   ],
   "source": [
    "for i in range(1,11,1):\n",
    "    print(i)"
   ]
  },
  {
   "cell_type": "code",
   "execution_count": 31,
   "id": "fd751d9f",
   "metadata": {},
   "outputs": [
    {
     "name": "stdout",
     "output_type": "stream",
     "text": [
      "1\n",
      "2\n",
      "3\n",
      "4\n",
      "5\n",
      "6\n",
      "7\n",
      "8\n",
      "9\n",
      "10\n"
     ]
    }
   ],
   "source": [
    "i = 1\n",
    "while(i < 11):\n",
    "    print(i)\n",
    "    i += 1"
   ]
  },
  {
   "cell_type": "markdown",
   "id": "6e5b6760",
   "metadata": {},
   "source": [
    "13. If you had a function named bacon() inside a module named spam, how would you call it after importing spam?"
   ]
  },
  {
   "cell_type": "markdown",
   "id": "ce04ba1b",
   "metadata": {},
   "source": [
    "# If there is module named spam and a function named bacon()\n",
    "\n",
    "import spam\n",
    "spam.bacon()"
   ]
  }
 ],
 "metadata": {
  "kernelspec": {
   "display_name": "Python 3 (ipykernel)",
   "language": "python",
   "name": "python3"
  },
  "language_info": {
   "codemirror_mode": {
    "name": "ipython",
    "version": 3
   },
   "file_extension": ".py",
   "mimetype": "text/x-python",
   "name": "python",
   "nbconvert_exporter": "python",
   "pygments_lexer": "ipython3",
   "version": "3.9.13"
  }
 },
 "nbformat": 4,
 "nbformat_minor": 5
}

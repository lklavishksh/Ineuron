{
 "cells": [
  {
   "cell_type": "markdown",
   "id": "9cdbc964",
   "metadata": {},
   "source": [
    "1. What exactly is []?"
   ]
  },
  {
   "cell_type": "code",
   "execution_count": null,
   "id": "2ce30856",
   "metadata": {},
   "outputs": [],
   "source": [
    "Square braces are used in declaring or initialising a list. [] means empty list.\n",
    "Not only this, when we need to find the element on a given index, we use square braces.\n",
    "For example, c = 'lavish'\n",
    "             c[0] = 'l'"
   ]
  },
  {
   "cell_type": "markdown",
   "id": "f542566c",
   "metadata": {},
   "source": [
    "2. In a list of values stored in a variable called spam, how would you assign the value 'hello' as the third value? (Assume [2,4, 6, 8, 10] are in spam.) \n",
    "Let's pretend the spam includes the list ['a', 'b', 'c', 'd'] for the next three queries.\n"
   ]
  },
  {
   "cell_type": "code",
   "execution_count": 1,
   "id": "5ee4155f",
   "metadata": {},
   "outputs": [],
   "source": [
    "spam = [2,4,6,8,10]\n",
    "spam[2] = 'hello'"
   ]
  },
  {
   "cell_type": "code",
   "execution_count": 2,
   "id": "94e952e5",
   "metadata": {},
   "outputs": [
    {
     "data": {
      "text/plain": [
       "[2, 4, 'hello', 8, 10]"
      ]
     },
     "execution_count": 2,
     "metadata": {},
     "output_type": "execute_result"
    }
   ],
   "source": [
    "spam"
   ]
  },
  {
   "cell_type": "markdown",
   "id": "239313ef",
   "metadata": {},
   "source": [
    "3. What is the value of spam[int(int('3' * 2) / 11)]?"
   ]
  },
  {
   "cell_type": "code",
   "execution_count": 5,
   "id": "2876d937",
   "metadata": {},
   "outputs": [
    {
     "data": {
      "text/plain": [
       "'d'"
      ]
     },
     "execution_count": 5,
     "metadata": {},
     "output_type": "execute_result"
    }
   ],
   "source": [
    "# '3' * 2 = '33' and int('33') = 33\n",
    "#int(33/11) = 3\n",
    "# It will give the value at spam[3]     \n",
    "# spam = ['a','b','c','d']\n",
    "spam = ['a','b','c','d']\n",
    "spam[3]"
   ]
  },
  {
   "cell_type": "markdown",
   "id": "61124116",
   "metadata": {},
   "source": [
    "4. What is the value of spam[-1]?"
   ]
  },
  {
   "cell_type": "code",
   "execution_count": 6,
   "id": "400cffc6",
   "metadata": {},
   "outputs": [
    {
     "data": {
      "text/plain": [
       "'d'"
      ]
     },
     "execution_count": 6,
     "metadata": {},
     "output_type": "execute_result"
    }
   ],
   "source": [
    "# -1 means it will iterate from last element and it will give last element as output\n",
    "spam[-1]"
   ]
  },
  {
   "cell_type": "markdown",
   "id": "ae3b5fb6",
   "metadata": {},
   "source": [
    "5. What is the value of spam[:2]? Let's pretend bacon has the list [3.14, 'cat' 11, 'cat', True] for the next three questions."
   ]
  },
  {
   "cell_type": "code",
   "execution_count": 7,
   "id": "d8c2cc47",
   "metadata": {},
   "outputs": [
    {
     "data": {
      "text/plain": [
       "['a', 'b']"
      ]
     },
     "execution_count": 7,
     "metadata": {},
     "output_type": "execute_result"
    }
   ],
   "source": [
    "# spam[:2] - it will give values from 0th location till 1st location as the output.\n",
    "spam[:2]"
   ]
  },
  {
   "cell_type": "markdown",
   "id": "9b5aae80",
   "metadata": {},
   "source": [
    "6. What is the value of bacon.index('cat')?"
   ]
  },
  {
   "cell_type": "code",
   "execution_count": 19,
   "id": "d73035ad",
   "metadata": {},
   "outputs": [],
   "source": [
    "bacon = [3.14, 'cat', 3.14, 'cat', True]"
   ]
  },
  {
   "cell_type": "code",
   "execution_count": 20,
   "id": "4913d2c7",
   "metadata": {},
   "outputs": [
    {
     "data": {
      "text/plain": [
       "1"
      ]
     },
     "execution_count": 20,
     "metadata": {},
     "output_type": "execute_result"
    }
   ],
   "source": [
    "# bacon.index('cat') will give the occurrence of the 'cat' in the list, i.e., 1.\n",
    "bacon.index('cat')"
   ]
  },
  {
   "cell_type": "markdown",
   "id": "5abbcf1d",
   "metadata": {},
   "source": [
    "7. How does bacon.append(99) change the look of the list value in bacon?"
   ]
  },
  {
   "cell_type": "code",
   "execution_count": 21,
   "id": "3de2be8c",
   "metadata": {},
   "outputs": [],
   "source": [
    "# Use keyword .append() to add any element in the list.\n",
    "bacon.append(99)"
   ]
  },
  {
   "cell_type": "code",
   "execution_count": 22,
   "id": "08be35e2",
   "metadata": {},
   "outputs": [
    {
     "data": {
      "text/plain": [
       "[3.14, 'cat', 3.14, 'cat', True, 99]"
      ]
     },
     "execution_count": 22,
     "metadata": {},
     "output_type": "execute_result"
    }
   ],
   "source": [
    "bacon"
   ]
  },
  {
   "cell_type": "markdown",
   "id": "937a8fa9",
   "metadata": {},
   "source": [
    "8. How does bacon.remove('cat') change the look of the list in bacon?"
   ]
  },
  {
   "cell_type": "code",
   "execution_count": 23,
   "id": "21e2ceb1",
   "metadata": {},
   "outputs": [],
   "source": [
    "# To remove any element from the list, use the keyword .remove(). It will remove the first occurrence of that keyword only.\n",
    "bacon.remove('cat')"
   ]
  },
  {
   "cell_type": "code",
   "execution_count": 24,
   "id": "d7ce8d84",
   "metadata": {},
   "outputs": [
    {
     "data": {
      "text/plain": [
       "[3.14, 3.14, 'cat', True, 99]"
      ]
     },
     "execution_count": 24,
     "metadata": {},
     "output_type": "execute_result"
    }
   ],
   "source": [
    "bacon"
   ]
  },
  {
   "cell_type": "code",
   "execution_count": 26,
   "id": "713bca80",
   "metadata": {},
   "outputs": [],
   "source": [
    "b = [3.14, 'cat', 3.14, 'cat', True, 99]"
   ]
  },
  {
   "cell_type": "code",
   "execution_count": 27,
   "id": "6a0074ad",
   "metadata": {},
   "outputs": [
    {
     "data": {
      "text/plain": [
       "[3.14, 'cat', 3.14, 'cat', True, 99]"
      ]
     },
     "execution_count": 27,
     "metadata": {},
     "output_type": "execute_result"
    }
   ],
   "source": [
    "b"
   ]
  },
  {
   "cell_type": "code",
   "execution_count": 28,
   "id": "40c93cc1",
   "metadata": {},
   "outputs": [
    {
     "data": {
      "text/plain": [
       "99"
      ]
     },
     "execution_count": 28,
     "metadata": {},
     "output_type": "execute_result"
    }
   ],
   "source": [
    "b.pop() # Removes the last element"
   ]
  },
  {
   "cell_type": "code",
   "execution_count": 30,
   "id": "5a7c081f",
   "metadata": {},
   "outputs": [
    {
     "data": {
      "text/plain": [
       "3.14"
      ]
     },
     "execution_count": 30,
     "metadata": {},
     "output_type": "execute_result"
    }
   ],
   "source": [
    "b.pop(2) # If you give index, it will remove the element at that index."
   ]
  },
  {
   "cell_type": "code",
   "execution_count": 31,
   "id": "66b3d96e",
   "metadata": {},
   "outputs": [
    {
     "data": {
      "text/plain": [
       "[3.14, 'cat', 'cat', True]"
      ]
     },
     "execution_count": 31,
     "metadata": {},
     "output_type": "execute_result"
    }
   ],
   "source": [
    "b"
   ]
  },
  {
   "cell_type": "markdown",
   "id": "d10fd49e",
   "metadata": {},
   "source": [
    "9. What are the list concatenation and list replication operators?"
   ]
  },
  {
   "cell_type": "markdown",
   "id": "7fd7e3c7",
   "metadata": {},
   "source": [
    "List Concatenation = '+'\n",
    "List replication = '*'"
   ]
  },
  {
   "cell_type": "code",
   "execution_count": 32,
   "id": "deb68e9d",
   "metadata": {},
   "outputs": [],
   "source": [
    "lists = [1,2,3,45,5] + [2,4,6,7] #List Concatenation"
   ]
  },
  {
   "cell_type": "code",
   "execution_count": 33,
   "id": "6da261e2",
   "metadata": {},
   "outputs": [
    {
     "data": {
      "text/plain": [
       "[1, 2, 3, 45, 5, 2, 4, 6, 7]"
      ]
     },
     "execution_count": 33,
     "metadata": {},
     "output_type": "execute_result"
    }
   ],
   "source": [
    "lists"
   ]
  },
  {
   "cell_type": "code",
   "execution_count": 34,
   "id": "6f0dd5b7",
   "metadata": {},
   "outputs": [],
   "source": [
    "list1 = [1,2,3,4,5] *2 # List replication"
   ]
  },
  {
   "cell_type": "code",
   "execution_count": 36,
   "id": "7d266375",
   "metadata": {},
   "outputs": [
    {
     "data": {
      "text/plain": [
       "[1, 2, 3, 4, 5, 1, 2, 3, 4, 5]"
      ]
     },
     "execution_count": 36,
     "metadata": {},
     "output_type": "execute_result"
    }
   ],
   "source": [
    "list1"
   ]
  },
  {
   "cell_type": "code",
   "execution_count": 40,
   "id": "a49874be",
   "metadata": {},
   "outputs": [],
   "source": [
    "l = [1,2,3,4,5] * 1,2"
   ]
  },
  {
   "cell_type": "code",
   "execution_count": 41,
   "id": "dff0d258",
   "metadata": {},
   "outputs": [
    {
     "data": {
      "text/plain": [
       "([1, 2, 3, 4, 5], 2)"
      ]
     },
     "execution_count": 41,
     "metadata": {},
     "output_type": "execute_result"
    }
   ],
   "source": [
    "l"
   ]
  },
  {
   "cell_type": "code",
   "execution_count": 42,
   "id": "c538282f",
   "metadata": {},
   "outputs": [
    {
     "data": {
      "text/plain": [
       "tuple"
      ]
     },
     "execution_count": 42,
     "metadata": {},
     "output_type": "execute_result"
    }
   ],
   "source": [
    "type(l)"
   ]
  },
  {
   "cell_type": "markdown",
   "id": "a8a8ad6d",
   "metadata": {},
   "source": [
    "10. What is difference between the list methods append() and insert()?"
   ]
  },
  {
   "cell_type": "code",
   "execution_count": 43,
   "id": "10318d7d",
   "metadata": {},
   "outputs": [],
   "source": [
    "# Append method adds/append the element at the last of the list.\n",
    "s = [1,2,3,4,5]\n",
    "s.append('lavish')"
   ]
  },
  {
   "cell_type": "code",
   "execution_count": 44,
   "id": "794e6323",
   "metadata": {},
   "outputs": [
    {
     "data": {
      "text/plain": [
       "[1, 2, 3, 4, 5, 'lavish']"
      ]
     },
     "execution_count": 44,
     "metadata": {},
     "output_type": "execute_result"
    }
   ],
   "source": [
    "s"
   ]
  },
  {
   "cell_type": "code",
   "execution_count": 47,
   "id": "f2d5a699",
   "metadata": {},
   "outputs": [],
   "source": [
    "# Insert method  inserts the element the given position\n",
    "s.insert(2,22) # .insert(position, value)"
   ]
  },
  {
   "cell_type": "code",
   "execution_count": 48,
   "id": "c0148285",
   "metadata": {},
   "outputs": [
    {
     "data": {
      "text/plain": [
       "[1, 2, 22, 3, 4, 5, 'lavish', 2]"
      ]
     },
     "execution_count": 48,
     "metadata": {},
     "output_type": "execute_result"
    }
   ],
   "source": [
    "s"
   ]
  },
  {
   "cell_type": "code",
   "execution_count": 50,
   "id": "d21b0560",
   "metadata": {},
   "outputs": [],
   "source": [
    "s.insert(3,100)"
   ]
  },
  {
   "cell_type": "code",
   "execution_count": 51,
   "id": "fbb326ce",
   "metadata": {},
   "outputs": [
    {
     "data": {
      "text/plain": [
       "['luv', 1, 2, 22, 100, 3, 4, 5, 'lavish', 2]"
      ]
     },
     "execution_count": 51,
     "metadata": {},
     "output_type": "execute_result"
    }
   ],
   "source": [
    "s.insert(0, 'luv')\n",
    "s"
   ]
  },
  {
   "cell_type": "markdown",
   "id": "61667707",
   "metadata": {},
   "source": [
    "11. What are the two methods for removing items from a list?"
   ]
  },
  {
   "cell_type": "code",
   "execution_count": 52,
   "id": "be527713",
   "metadata": {},
   "outputs": [],
   "source": [
    "# del(), pop() and remove() are the three methods for removing items from a list.\n",
    "t = [1,2,3,4,5,2,3,2,2,2,2]\n",
    "t.remove(2) # remove method removes only the first occurrence of the element."
   ]
  },
  {
   "cell_type": "code",
   "execution_count": 53,
   "id": "27128f10",
   "metadata": {},
   "outputs": [
    {
     "data": {
      "text/plain": [
       "[1, 3, 4, 5, 2, 3, 2, 2, 2, 2]"
      ]
     },
     "execution_count": 53,
     "metadata": {},
     "output_type": "execute_result"
    }
   ],
   "source": [
    "t"
   ]
  },
  {
   "cell_type": "code",
   "execution_count": 54,
   "id": "b3f516ab",
   "metadata": {},
   "outputs": [],
   "source": [
    "del t[2] # It will remove the element at specified location"
   ]
  },
  {
   "cell_type": "code",
   "execution_count": 55,
   "id": "c1fb0938",
   "metadata": {},
   "outputs": [
    {
     "data": {
      "text/plain": [
       "[1, 3, 5, 2, 3, 2, 2, 2, 2]"
      ]
     },
     "execution_count": 55,
     "metadata": {},
     "output_type": "execute_result"
    }
   ],
   "source": [
    "t"
   ]
  },
  {
   "cell_type": "code",
   "execution_count": 56,
   "id": "3b917f55",
   "metadata": {},
   "outputs": [
    {
     "data": {
      "text/plain": [
       "5"
      ]
     },
     "execution_count": 56,
     "metadata": {},
     "output_type": "execute_result"
    }
   ],
   "source": [
    "t.pop(2) # Delete the element at the specified location."
   ]
  },
  {
   "cell_type": "code",
   "execution_count": 57,
   "id": "b672f159",
   "metadata": {},
   "outputs": [
    {
     "data": {
      "text/plain": [
       "[1, 3, 2, 3, 2, 2, 2, 2]"
      ]
     },
     "execution_count": 57,
     "metadata": {},
     "output_type": "execute_result"
    }
   ],
   "source": [
    "t"
   ]
  },
  {
   "cell_type": "markdown",
   "id": "c2664edf",
   "metadata": {},
   "source": [
    "12. Describe how list values and string values are identical."
   ]
  },
  {
   "cell_type": "markdown",
   "id": "da383817",
   "metadata": {},
   "source": [
    "List values and String values are identical as they both can use len() method. They can use slices, indexes."
   ]
  },
  {
   "cell_type": "markdown",
   "id": "e545ce2f",
   "metadata": {},
   "source": [
    "13. What's the difference between tuples and lists?"
   ]
  },
  {
   "cell_type": "markdown",
   "id": "7ebdba7d",
   "metadata": {},
   "source": [
    "Tuples are immutable while Lists are mutable. Tuples can be used a key to the dictionary while lists can't be used a key in a dictionary."
   ]
  },
  {
   "cell_type": "markdown",
   "id": "342e908f",
   "metadata": {},
   "source": [
    "14. How do you type a tuple value that only contains the integer 42?"
   ]
  },
  {
   "cell_type": "code",
   "execution_count": 60,
   "id": "0dc5d7e0",
   "metadata": {},
   "outputs": [],
   "source": [
    "tuple1 = (42,)"
   ]
  },
  {
   "cell_type": "code",
   "execution_count": 61,
   "id": "d0edf775",
   "metadata": {},
   "outputs": [
    {
     "data": {
      "text/plain": [
       "tuple"
      ]
     },
     "execution_count": 61,
     "metadata": {},
     "output_type": "execute_result"
    }
   ],
   "source": [
    "type(tuple1)"
   ]
  },
  {
   "cell_type": "code",
   "execution_count": 62,
   "id": "493deb54",
   "metadata": {},
   "outputs": [],
   "source": [
    "tuple2 = 42,"
   ]
  },
  {
   "cell_type": "code",
   "execution_count": 63,
   "id": "755c02f8",
   "metadata": {},
   "outputs": [
    {
     "data": {
      "text/plain": [
       "tuple"
      ]
     },
     "execution_count": 63,
     "metadata": {},
     "output_type": "execute_result"
    }
   ],
   "source": [
    "type(tuple2)"
   ]
  },
  {
   "cell_type": "markdown",
   "id": "0c243590",
   "metadata": {},
   "source": [
    "15. How do you get a list value's tuple form? How do you get a tuple value's list form?"
   ]
  },
  {
   "cell_type": "code",
   "execution_count": 64,
   "id": "d0381be3",
   "metadata": {},
   "outputs": [],
   "source": [
    "list1 = [100, 200, 300, 400, 500]\n",
    "tuple1 = ('a', 'b', 'c', 'd', 'e')"
   ]
  },
  {
   "cell_type": "code",
   "execution_count": 65,
   "id": "e9940364",
   "metadata": {},
   "outputs": [
    {
     "data": {
      "text/plain": [
       "list"
      ]
     },
     "execution_count": 65,
     "metadata": {},
     "output_type": "execute_result"
    }
   ],
   "source": [
    "type(list1)"
   ]
  },
  {
   "cell_type": "code",
   "execution_count": 70,
   "id": "df64604a",
   "metadata": {},
   "outputs": [
    {
     "data": {
      "text/plain": [
       "(100, 200, 300, 400, 500)"
      ]
     },
     "execution_count": 70,
     "metadata": {},
     "output_type": "execute_result"
    }
   ],
   "source": [
    "tuple(list1) # To get tuple value from list"
   ]
  },
  {
   "cell_type": "code",
   "execution_count": 72,
   "id": "73d9a3f0",
   "metadata": {},
   "outputs": [
    {
     "data": {
      "text/plain": [
       "['a', 'b', 'c', 'd', 'e']"
      ]
     },
     "execution_count": 72,
     "metadata": {},
     "output_type": "execute_result"
    }
   ],
   "source": [
    "list(tuple1) # To use tuple as a list"
   ]
  },
  {
   "cell_type": "markdown",
   "id": "26ddfbb1",
   "metadata": {},
   "source": [
    "16. Variables that contain list values are not necessarily lists themselves. Instead, what do they contain?"
   ]
  },
  {
   "cell_type": "markdown",
   "id": "12303623",
   "metadata": {},
   "source": [
    "The variable stores the memory address of the list object in the computer's memory, rather than the actual list itself."
   ]
  },
  {
   "cell_type": "markdown",
   "id": "07c2773b",
   "metadata": {},
   "source": [
    "17. How do you distinguish between copy.copy() and copy.deepcopy()?"
   ]
  },
  {
   "cell_type": "markdown",
   "id": "92b3d698",
   "metadata": {},
   "source": [
    "The copy.copy() function will do a shallow copy of a list, while the copy.deepcopy() function will do a deep copy of a list. That is, only copy.deepcopy() will duplicate any lists inside the list."
   ]
  },
  {
   "cell_type": "code",
   "execution_count": 73,
   "id": "7ef65dec",
   "metadata": {},
   "outputs": [
    {
     "name": "stdout",
     "output_type": "stream",
     "text": [
      "Original list: [1, 2, [5, 4]]\n",
      "Shallow copy list: [1, 2, [5, 4]]\n",
      "Deep copy list: [1, 2, [6, 4]]\n"
     ]
    }
   ],
   "source": [
    "import copy\n",
    "\n",
    "# creating a list with a nested list\n",
    "original_list = [1, 2, [3, 4]]\n",
    "\n",
    "# using copy() method to create a shallow copy\n",
    "shallow_copy_list = copy.copy(original_list)\n",
    "\n",
    "# using deepcopy() method to create a deep copy\n",
    "deep_copy_list = copy.deepcopy(original_list)\n",
    "\n",
    "# modifying the nested list in the shallow copy\n",
    "shallow_copy_list[2][0] = 5\n",
    "\n",
    "# modifying the nested list in the deep copy\n",
    "deep_copy_list[2][0] = 6\n",
    "\n",
    "# printing the original list and the two copied lists\n",
    "print(\"Original list:\", original_list)\n",
    "print(\"Shallow copy list:\", shallow_copy_list)\n",
    "print(\"Deep copy list:\", deep_copy_list)"
   ]
  },
  {
   "cell_type": "code",
   "execution_count": 74,
   "id": "00ad5b44",
   "metadata": {},
   "outputs": [
    {
     "name": "stdout",
     "output_type": "stream",
     "text": [
      "Original list: [1, 2, [5, 4]]\n",
      "Shallow copy list: [100, 2, [5, 4]]\n",
      "Deep copy list: [101, 2, [6, 4]]\n"
     ]
    }
   ],
   "source": [
    "# modifying the nested list in the shallow copy\n",
    "shallow_copy_list[0] = 100\n",
    "\n",
    "# modifying the nested list in the deep copy\n",
    "deep_copy_list[0] = 101\n",
    "\n",
    "# printing the original list and the two copied lists\n",
    "print(\"Original list:\", original_list)\n",
    "print(\"Shallow copy list:\", shallow_copy_list)\n",
    "print(\"Deep copy list:\", deep_copy_list)"
   ]
  }
 ],
 "metadata": {
  "kernelspec": {
   "display_name": "Python 3 (ipykernel)",
   "language": "python",
   "name": "python3"
  },
  "language_info": {
   "codemirror_mode": {
    "name": "ipython",
    "version": 3
   },
   "file_extension": ".py",
   "mimetype": "text/x-python",
   "name": "python",
   "nbconvert_exporter": "python",
   "pygments_lexer": "ipython3",
   "version": "3.9.13"
  }
 },
 "nbformat": 4,
 "nbformat_minor": 5
}

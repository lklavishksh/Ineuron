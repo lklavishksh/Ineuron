{
 "cells": [
  {
   "cell_type": "markdown",
   "id": "cc78251b",
   "metadata": {},
   "source": [
    "1. Why are functions advantageous to have in your programs?"
   ]
  },
  {
   "cell_type": "markdown",
   "id": "0ca6a415",
   "metadata": {},
   "source": [
    "The use of functions makes a program more readable. It's frequently difficult to read a large program. Breaking the code down into smaller functions keeps the program structured, understandable, and reusable. The function can be reused countless times after it is defined"
   ]
  },
  {
   "cell_type": "markdown",
   "id": "2def8336",
   "metadata": {},
   "source": [
    "2. When does the code in a function run: when it's specified or when it's called?"
   ]
  },
  {
   "cell_type": "markdown",
   "id": "5ac2255f",
   "metadata": {},
   "source": [
    "When it's called"
   ]
  },
  {
   "cell_type": "markdown",
   "id": "2d4fe45d",
   "metadata": {},
   "source": [
    "3. What statement creates a function?"
   ]
  },
  {
   "cell_type": "code",
   "execution_count": null,
   "id": "9c8dfb66",
   "metadata": {},
   "outputs": [],
   "source": [
    "def methodName(argument) - "
   ]
  },
  {
   "cell_type": "markdown",
   "id": "c6ebe7b6",
   "metadata": {},
   "source": [
    "4. What is the difference between a function and a function call?"
   ]
  },
  {
   "cell_type": "markdown",
   "id": "20d88960",
   "metadata": {},
   "source": [
    "A function is a piece of code which enhanced the reusability and modularity of your program. It means that piece of code need not be written again. A function call means invoking or calling that function. Unless a function is called there is no use of that function."
   ]
  },
  {
   "cell_type": "markdown",
   "id": "7e8e757d",
   "metadata": {},
   "source": [
    "5. How many global scopes are there in a Python program? How many local scopes?"
   ]
  },
  {
   "cell_type": "markdown",
   "id": "07e13061",
   "metadata": {},
   "source": [
    "There is only one global scope per program. This means that any variable defined at the top level of a module or file is considered to be in the global scope and can be accessed from anywhere in the program.\n",
    "Local scopes are created whenever a function is called. Each function call creates a new local scope, which is a separate namespace where variables and objects can be defined and accessed. These variables and objects are only accessible within the scope of the function and are not visible outside of it. When the function returns, its local scope is destroyed, and any variables or objects defined within it are also destroyed."
   ]
  },
  {
   "cell_type": "markdown",
   "id": "6917dc21",
   "metadata": {},
   "source": [
    "6. What happens to variables in a local scope when the function call returns?"
   ]
  },
  {
   "cell_type": "markdown",
   "id": "bffeb896",
   "metadata": {},
   "source": [
    "Each call of the function creates new local variables, and their lifetimes expire when the function returns to the caller."
   ]
  },
  {
   "cell_type": "markdown",
   "id": "aa7da388",
   "metadata": {},
   "source": [
    "7. What is the concept of a return value? Is it possible to have a return value in an expression?"
   ]
  },
  {
   "cell_type": "markdown",
   "id": "294f3aa6",
   "metadata": {},
   "source": [
    "In programming, a return value is the output of a function or method after it has been executed. It is the value that is returned to the caller, indicating the result of the operation that was performed. A return value can be of any data type, such as integers, strings, booleans, or even more complex data structures like lists or dictionaries.\n",
    "\n",
    "Yes, it is possible to have a return value in an expression in Python. For example, you can use the return value of a function directly in another expression or assignment statement."
   ]
  },
  {
   "cell_type": "markdown",
   "id": "328a467f",
   "metadata": {},
   "source": [
    "8. If a function does not have a return statement, what is the return value of a call to that function?"
   ]
  },
  {
   "cell_type": "markdown",
   "id": "53226d75",
   "metadata": {},
   "source": [
    "It will return None"
   ]
  },
  {
   "cell_type": "markdown",
   "id": "9212325e",
   "metadata": {},
   "source": [
    "9. How do you make a function variable refer to the global variable?"
   ]
  },
  {
   "cell_type": "markdown",
   "id": "ecdfc3a6",
   "metadata": {},
   "source": [
    "Use keyword 'global' for the variable."
   ]
  },
  {
   "cell_type": "markdown",
   "id": "84659418",
   "metadata": {},
   "source": [
    "10. What is the data type of None?"
   ]
  },
  {
   "cell_type": "code",
   "execution_count": 1,
   "id": "f494a492",
   "metadata": {},
   "outputs": [
    {
     "data": {
      "text/plain": [
       "NoneType"
      ]
     },
     "execution_count": 1,
     "metadata": {},
     "output_type": "execute_result"
    }
   ],
   "source": [
    "type(None)"
   ]
  },
  {
   "cell_type": "markdown",
   "id": "27df44c8",
   "metadata": {},
   "source": [
    "11. What does the sentence import areallyourpetsnamederic do?"
   ]
  },
  {
   "cell_type": "markdown",
   "id": "1d10e43e",
   "metadata": {},
   "source": [
    "It will import a module named 'areallyourpetsnamederic'."
   ]
  },
  {
   "cell_type": "markdown",
   "id": "ae7c9b10",
   "metadata": {},
   "source": [
    "12. If you had a bacon() feature in a spam module, what would you call it after importing spam?"
   ]
  },
  {
   "cell_type": "code",
   "execution_count": null,
   "id": "8e7dcae9",
   "metadata": {},
   "outputs": [],
   "source": [
    "spam.bacon()"
   ]
  },
  {
   "cell_type": "markdown",
   "id": "b5e4b8a2",
   "metadata": {},
   "source": [
    "13. What can you do to save a programme from crashing if it encounters an error?"
   ]
  },
  {
   "cell_type": "markdown",
   "id": "85946387",
   "metadata": {},
   "source": [
    "We can use Exception handling (Try- Except block) and Assertion block."
   ]
  },
  {
   "cell_type": "markdown",
   "id": "2b32dca1",
   "metadata": {},
   "source": [
    "14. What is the purpose of the try clause? What is the purpose of the except clause?"
   ]
  },
  {
   "cell_type": "markdown",
   "id": "cb81be1d",
   "metadata": {},
   "source": [
    "The try block lets you test a block of code for errors. The except block lets you handle the error."
   ]
  }
 ],
 "metadata": {
  "kernelspec": {
   "display_name": "Python 3 (ipykernel)",
   "language": "python",
   "name": "python3"
  },
  "language_info": {
   "codemirror_mode": {
    "name": "ipython",
    "version": 3
   },
   "file_extension": ".py",
   "mimetype": "text/x-python",
   "name": "python",
   "nbconvert_exporter": "python",
   "pygments_lexer": "ipython3",
   "version": "3.9.13"
  }
 },
 "nbformat": 4,
 "nbformat_minor": 5
}
